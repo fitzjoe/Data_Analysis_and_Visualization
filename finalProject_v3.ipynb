{
 "cells": [
  {
   "cell_type": "code",
   "execution_count": 6,
   "id": "21b16444",
   "metadata": {
    "is_executing": true,
    "tags": []
   },
   "outputs": [],
   "source": [
    "import os\n",
    "import csv\n",
    "import pandas as pd\n",
    "import numpy as np\n",
    "import matplotlib.pyplot as plt\n",
    "import plotly.express as px\n",
    "import plotly.graph_objects as go\n",
    "import tkinter as tk\n",
    "from tkinter import ttk\n",
    "from tkinter import messagebox as tkMsgBox\n",
    "from tkinter import filedialog\n",
    "from tkinter import Tk, Label, Button, OptionMenu, StringVar\n",
    "from matplotlib.backends.backend_tkagg import FigureCanvasTkAgg\n",
    "from matplotlib.figure import Figure\n",
    "from datetime import datetime\n",
    "from IPython.display import display, clear_output, HTML"
   ]
  },
  {
   "cell_type": "code",
   "execution_count": 7,
   "id": "06e298fa",
   "metadata": {
    "tags": []
   },
   "outputs": [],
   "source": [
    "class SalesDataAnalysis:\n",
    "    \n",
    "    def __init__(self):\n",
    "        self.df = pd.read_csv('sales_data.csv')\n",
    "        self.clean_data()\n",
    "        \n",
    "    def clean_data(self):\n",
    "        # Strip column names of leading and trailing whitespaces\n",
    "        self.df.columns = self.df.columns.str.strip()\n",
    "\n",
    "        # Remove whitespaces from cell values\n",
    "        self.df = self.df.applymap(lambda x: x.strip() if isinstance(x,str) else x)\n",
    "\n",
    "        # More data cleaning\n",
    "        self.df = self.df.applymap(lambda x: x.replace('$', '').replace(',', '').replace('-', '0') if isinstance(x, str) and '$' in x else x)\n",
    "\n",
    "        # Add $ to the names of columns that represent amounts of money\n",
    "        list_add_currency = ['Manufacturing Price', 'Sale Price', 'Gross Sales', 'Discounts', 'Sales', 'COGS', 'Profit']\n",
    "        dict_add_currency = {col:col+'($)' for col in list_add_currency}\n",
    "        self.df.columns = [dict_add_currency[col] if col in dict_add_currency else col for col in self.df.columns]\n",
    "\n",
    "        # For negative values, remove the parenthesis and add a minus sign\n",
    "        self.df = self.df.applymap(lambda x: '-'+x[1:-1] if isinstance(x,str) and x.startswith('(') and x.endswith(')') else x)\n",
    "\n",
    "        # Align datetime to pandas format\n",
    "        self.df[\"DateTime\"] = pd.to_datetime(self.df[\"DateTime\"])\n",
    "\n",
    "        # Create the Year, Year-Month, MonthNum, and Month columns from the DateTime column\n",
    "        self.df['Year'] = self.df[\"DateTime\"].dt.year\n",
    "        self.df[\"Year-Month\"] = self.df[\"DateTime\"].dt.strftime('%Y-%m')\n",
    "        self.df['MonthNum'] = self.df[\"DateTime\"].dt.month\n",
    "        self.df['Month'] = self.df[\"DateTime\"].dt.strftime('%B')\n",
    "\n",
    "        # Set the columns to the correct data type\n",
    "        dict_dtype = {\"Segment\": str, \"Country\":str, \"Product\":str, \"Discount Band\":str, \"Units Sold\":float, \"Manufacturing Price($)\":float,\"Sale Price($)\":float, \"Gross Sales($)\":float, \"Discounts($)\":float, \"Sales($)\":float, \"COGS($)\":float, \"Profit($)\":float, \"Year\":str, \"DateTime\":str, \"MonthNum\":str, \"Month\":str}\n",
    "        self.df = self.df.astype(dict_dtype)\n",
    "        \n",
    "               \n",
    "        \n",
    "        #1 Summary statistics\n",
    "    def summary_statistics(self):\n",
    "        # Define parameters for table styles\n",
    "        cell_hover = {  # for row hover use <tr> instead of <td>\n",
    "            'selector': 'td:hover',\n",
    "            'props': [('background-color', '#848080')]\n",
    "        }\n",
    "        index_names = {\n",
    "            'selector': '.index_name',\n",
    "            'props': 'font-style: italic; color: darkgrey; font-weight:normal;'\n",
    "        }\n",
    "        headers = {\n",
    "            'selector': 'th:not(.index_name)',\n",
    "            'props': 'background-color: #001746; color: white;'\n",
    "        }\n",
    "        s = self.df.select_dtypes(include=['number']).describe().style.set_table_styles([cell_hover, index_names, headers])\\\n",
    "        .background_gradient(axis=None, vmin=1, vmax=5, cmap=\"GnBu\")\n",
    "        display(s)\n",
    "\n",
    "        #2 Histograms\n",
    "    def histograms(self):\n",
    "        x_list = [{\"Units Sold\":\"Segment\"}, {\"Units Sold\":\"Discount Band\"}, {\"Units Sold\":\"Year\"}]\n",
    "        for item in x_list:\n",
    "            for k,v in item.items():\n",
    "                plt = px.histogram(self.df,x=k, nbins=25, color=v).update_layout(\n",
    "                title={\n",
    "                    'text':f\"Histogram of {k} colored by {v}\",\n",
    "                    'x':0.5,\n",
    "                    'y':0.93,\n",
    "                    'xanchor':'center',\n",
    "                    'yanchor':'top'\n",
    "                },\n",
    "                title_font_size=22)\n",
    "                plt.show()\n",
    "        \n",
    "        #3 Boxplots\n",
    "    def boxplots(self):\n",
    "        s = px.box(self.df,x=\"Country\",y=\"Units Sold\",color=\"Year\").update_layout(title={\n",
    "                'text':\"Boxplots of Units Sold\",\n",
    "                'x':0.5,\n",
    "                'y':0.93,\n",
    "                'xanchor':'center',\n",
    "                'yanchor':'top'\n",
    "            },title_font_size=24)\n",
    "        display(s)\n",
    "        \n",
    "        #4 Correlation Matrix\n",
    "        \n",
    "        # Define function for conditional formatting\n",
    "    def corr_matrix(self):\n",
    "        headers = {'selector': 'th:not(.index_name)','props': 'background-color: #001746; color: white;'}\n",
    "        def conditional_formatting(value):\n",
    "            if abs(value) == 1:\n",
    "                return 'background-color: #082604'\n",
    "            if abs(value) > 0.9:\n",
    "                return 'background-color: #006400'\n",
    "            elif abs(value) > 0.7:\n",
    "                return 'background-color: #38b000'\n",
    "            elif abs(value) > 0.5:\n",
    "                return 'background-color: #F8F808'\n",
    "            elif abs(value) > 0.3:\n",
    "                return 'background-color: #CAF2E3'\n",
    "            elif abs(value) > 0.1:\n",
    "                return 'background-color: #F8961E'\n",
    "            elif abs(value) <= 0.1:\n",
    "                return 'background-color: #FF0000'\n",
    "            \n",
    "        s = self.df[['Units Sold','Manufacturing Price($)', 'Sale Price($)', 'Gross Sales($)','Discounts($)', 'Sales($)', \n",
    "                'COGS($)', 'Profit($)']].corr().style.applymap(conditional_formatting).set_table_styles([headers])\n",
    "        \n",
    "        lst = ['Units Sold','Manufacturing Price(\\$)', 'Sale Price(\\$)', 'Gross Sales(\\$)','Discounts(\\$)', 'Sales(\\$)', 'COGS(\\$)', 'Profit(\\$)']\n",
    "        comb_list = list(f'{i} | {j}' for i in lst for j in lst)\n",
    "        tt_list = [comb_list[i:i+8] for i in range(0, len(comb_list), 8)]\n",
    "        \n",
    "        tooltips = pd.DataFrame(tt_list,index=pd.Index(['Units Sold','Manufacturing Price($)', 'Sale Price($)', \n",
    "                                                        'Gross Sales($)','Discounts($)', 'Sales($)', 'COGS($)', \n",
    "                                                        'Profit($)']),columns=self.df.columns[4:12])\n",
    "        display(s.set_tooltips(tooltips, props='visibility: hidden; position: absolute; z-index: 1; border: 1px solid #000086;'\n",
    "                         'background-color: #CECECE; color: #000076; font-size: 0.8em;'\n",
    "                         'transform: translate(0px, -24px); padding: 0.6em; border-radius: 0.5em;'))\n",
    "        \n",
    "\n",
    "    \n",
    "        ##1 Scatterplots\n",
    "    def scatterplots(self):\n",
    "        s = px.scatter(self.df, x=\"Discounts($)\", y=\"Sales($)\", color=\"Discount Band\").update_layout(title={\n",
    "                'text':f\"Scatterplot of Sales vs Discounts\",\n",
    "                'x':0.5,\n",
    "                'y':0.93,\n",
    "                'xanchor':'center',\n",
    "                'yanchor':'top'},title_font_size=24)\n",
    "        display(s)\n",
    "        \n",
    "        ##2 Barcharts\n",
    "    \n",
    "        # Total Sales by Product by Country\n",
    "    def barcharts_1(self):\n",
    "        fig1 = px.histogram(self.df, y='Product', x='Sales($)', color='Country',pattern_shape=\"Country\", pattern_shape_sequence=[\".\",\"\\\\\", \"x\", \"+\",\"|\"],\n",
    "                          labels={\n",
    "                              'sum of Sales($)':'Sales'\n",
    "                          }).\\\n",
    "        update_layout(yaxis={'categoryorder':'total ascending'},xaxis_title=\"Sales\",title={\n",
    "                'text':'Total Sales by Product by Country',\n",
    "                'x':0.5,\n",
    "                'y':0.93,\n",
    "                'xanchor':'center',\n",
    "                'yanchor':'top'},title_font_size=20)\n",
    "        fig1.show()\n",
    "        \n",
    "        # Total Sales by Country by Year\n",
    "    def barcharts_2(self):\n",
    "        fig2 = px.histogram(self.df, x='Country', y='Sales($)', color='Year', barmode='group',pattern_shape=\"Year\", pattern_shape_sequence=[\".\",\"\\\\\", \"x\"]).\\\n",
    "        update_layout(yaxis={'categoryorder':'total descending'},yaxis_title=\"Sales\",title={\n",
    "                'text':'Total Sales by Country by Year',\n",
    "                'x':0.5,\n",
    "                'y':0.93,\n",
    "                'xanchor':'center',\n",
    "                'yanchor':'top'},title_font_size=20)\n",
    "        fig2.show()\n",
    "\n",
    "        ##3 Pie charts\n",
    "\n",
    "        # Total Sales by Segment\n",
    "    def piechart_1(self):\n",
    "        fig3 = go.Figure(data=[go.Pie(labels=self.df[\"Segment\"], values=self.df[\"Sales($)\"], hole=.5)]).\\\n",
    "        update_layout(title={\n",
    "                'text':'Total Sales by Segment',\n",
    "                'x':0.5,\n",
    "                'y':0.93,\n",
    "                'xanchor':'center',\n",
    "                'yanchor':'top'},title_font_size=20)\n",
    "        fig3.show()\n",
    "        \n",
    "        # Total Discounts by Country\n",
    "    def piechart_2(self):\n",
    "        fig4 = px.pie(self.df, values='Discounts($)', names='Country').\\\n",
    "        update_layout(title={\n",
    "                'text':'Discounts by Country',\n",
    "                'x':0.5,\n",
    "                'y':0.99,\n",
    "                'xanchor':'center',\n",
    "                'yanchor':'top'},title_font_size=20)\n",
    "        fig4.show()\n",
    "        \n",
    "        ### Time series charts\n",
    "\n",
    "        ##4 Area chart\n",
    "    def areachart(self):\n",
    "        area_df = pd.pivot_table(self.df, values=\"Sales($)\", index=[\"Year-Month\"], columns=[\"Country\"])\n",
    "        s = px.area(area_df).\\\n",
    "        update_layout(yaxis_title=\"Sales\",title={\n",
    "                'text':'Total Sales by Country',\n",
    "                'x':0.5,\n",
    "                'y':0.93,\n",
    "                'xanchor':'center',\n",
    "                'yanchor':'top'}, title_font_size=20)\n",
    "        display(s)\n",
    "        \n",
    "        \n",
    "       ##5 Line chart\n",
    "    def linechart(self):\n",
    "        line_df = self.df.groupby('Year-Month').sum(numeric_only=True)[\"Sales($)\"]\n",
    "        s = px.line(line_df).\\\n",
    "        update_layout(yaxis_title=\"Sales\",showlegend=False,title={\n",
    "                'text':'Total Sales',\n",
    "                'x':0.5,\n",
    "                'y':0.93,\n",
    "                'xanchor':'center',\n",
    "                'yanchor':'top'},title_font_size=20) \n",
    "        display(s)\n"
   ]
  },
  {
   "cell_type": "code",
   "execution_count": 8,
   "id": "567d2713",
   "metadata": {
    "tags": []
   },
   "outputs": [],
   "source": [
    "class GUIApp:\n",
    "    \n",
    "    def __init__(self, main_window, data_file):\n",
    "        self.main_window = main_window\n",
    "        self.main_window.title(\"Data Analysis and Visualization\")\n",
    "        self.main_window.geometry(\"300x200\")\n",
    "\n",
    "        self.style = ttk.Style()\n",
    "#         self.style.theme_use('clam')\n",
    "        \n",
    "        self.main_window.tk.call(\"source\",\"azure.tcl\")\n",
    "        self.main_window.tk.call(\"set_theme\",\"dark\")\n",
    "        self.style.configure(\"TCombobox\", fieldbackground=\"blue\", background=\"white\", arrowcolor=\"blue\")\n",
    "\n",
    "        self.sales_analysis = SalesDataAnalysis()\n",
    "\n",
    "        # EDA and VIZ Radio Buttons\n",
    "        self.analysis_type = tk.StringVar(value='EDA')\n",
    "        self.EDA_radio = ttk.Radiobutton(self.main_window, text='EDA', variable=self.analysis_type, value='EDA', command=self.toggle_options)\n",
    "        self.VIZ_radio = ttk.Radiobutton(self.main_window, text='VIZ', variable=self.analysis_type, value='VIZ', command=self.toggle_options)\n",
    "        self.EDA_radio.pack()\n",
    "        self.VIZ_radio.pack()\n",
    "\n",
    "        # Dropdown Menus\n",
    "        self.EDA_options = ttk.Combobox(self.main_window, values=[\"Summary Statistics\", \"Histograms\", \"Boxplots\", \"Correlation Matrix\"], state='readonly')\n",
    "        self.VIZ_options = ttk.Combobox(self.main_window, values=[\"Scatterplot\", \"Bar-Sales by Product\", \"Bar-Sales by Country\", \"Pie-Sales by Segment\", \"Pie-Discounts by Country\", \"Area Chart\", \"Line Chart\"], state='disabled')\n",
    "        self.EDA_options.pack()\n",
    "        self.VIZ_options.pack()\n",
    "\n",
    "        # Canvas\n",
    "        self.fig_canvas = FigureCanvasTkAgg(Figure(figsize=(5, 4)), master=self.main_window)\n",
    "        self.fig_canvas.get_tk_widget().pack(fill=tk.BOTH, expand=True)\n",
    "\n",
    "        # Plot Button\n",
    "        self.plot_button = tk.Button(self.main_window, text='Plot', width=20, bg=\"#00005C\", fg=\"white\", activebackground=\"#7979FF\", command=self.plot_chart)\n",
    "        self.plot_button.pack(pady=2)\n",
    "        \n",
    "        self.quit_button = tk.Button(self.main_window, text='Exit', width=10, bg=\"#9E0000\", fg=\"white\", activebackground=\"#FF9F9F\", command=self.main_window.quit)\n",
    "        self.quit_button.pack(pady=1)\n",
    "\n",
    "    def toggle_options(self):\n",
    "        if self.analysis_type.get() == 'EDA':\n",
    "            self.EDA_options.config(state='readonly')\n",
    "            self.VIZ_options.config(state='disabled')\n",
    "        else:\n",
    "            self.VIZ_options.config(state='readonly')\n",
    "            self.EDA_options.config(state='disabled')\n",
    "\n",
    "    def plot_chart(self):\n",
    "        chosen_option = self.EDA_options.get() if self.analysis_type.get() == 'EDA' else self.VIZ_options.get()\n",
    "        if chosen_option:\n",
    "            # Clear the previous figure\n",
    "            self.fig_canvas.figure.clf()\n",
    "            \n",
    "            if chosen_option == \"Summary Statistics\":\n",
    "                clear_output(wait=True)\n",
    "                self.sales_analysis.summary_statistics()\n",
    "\n",
    "            elif chosen_option == \"Histograms\":\n",
    "                clear_output(wait=True)\n",
    "                sales_analysis.histograms()\n",
    "            \n",
    "            elif chosen_option == \"Boxplots\":\n",
    "                clear_output(wait=True)\n",
    "                self.sales_analysis.boxplots()\n",
    "            \n",
    "            elif chosen_option == \"Correlation Matrix\":\n",
    "                clear_output(wait=True)\n",
    "                self.sales_analysis.corr_matrix()\n",
    "\n",
    "            elif chosen_option == \"Scatterplot\":\n",
    "                clear_output(wait=True)\n",
    "                self.sales_analysis.scatterplots()\n",
    "\n",
    "            elif chosen_option == \"Bar-Sales by Product\":\n",
    "                clear_output(wait=True)\n",
    "                self.sales_analysis.barcharts_1()\n",
    "            \n",
    "            elif chosen_option == \"Bar-Sales by Country\":\n",
    "                clear_output(wait=True)\n",
    "                self.sales_analysis.barcharts_2()\n",
    "            \n",
    "            elif chosen_option == \"Pie-Sales by Segment\":\n",
    "                clear_output(wait=True)\n",
    "                self.sales_analysis.piechart_1()\n",
    "            \n",
    "            elif chosen_option == \"Pie-Discounts by Country\":\n",
    "                clear_output(wait=True)\n",
    "                self.sales_analysis.piechart_2()\n",
    "            \n",
    "            elif chosen_option == \"Area Chart\":\n",
    "                clear_output(wait=True)\n",
    "                self.sales_analysis.areachart()\n",
    "            \n",
    "            elif chosen_option == \"Line Chart\":\n",
    "                clear_output(wait=True)\n",
    "                self.sales_analysis.linechart()\n",
    "            else:\n",
    "                messagebox.showerror(\"Error\", \"Invalid chart type selected\")"
   ]
  },
  {
   "cell_type": "code",
   "execution_count": 9,
   "id": "ede17599-7430-4c1f-a935-3a8fb81cdda0",
   "metadata": {},
   "outputs": [
    {
     "data": {
      "text/html": [
       "<style>div.output_scroll { height: 65em; }</style>"
      ],
      "text/plain": [
       "<IPython.core.display.HTML object>"
      ]
     },
     "metadata": {},
     "output_type": "display_data"
    }
   ],
   "source": [
    "# Increase the height of the display\n",
    "display(HTML(\"<style>div.output_scroll { height: 65em; }</style>\"))"
   ]
  },
  {
   "cell_type": "code",
   "execution_count": 10,
   "id": "2f3549d3",
   "metadata": {
    "tags": []
   },
   "outputs": [
    {
     "data": {
      "application/vnd.plotly.v1+json": {
       "config": {
        "plotlyServerURL": "https://plot.ly"
       },
       "data": [
        {
         "hovertemplate": "variable=Sales($)<br>Year-Month=%{x}<br>value=%{y}<extra></extra>",
         "legendgroup": "Sales($)",
         "line": {
          "color": "#636efa",
          "dash": "solid"
         },
         "marker": {
          "symbol": "circle"
         },
         "mode": "lines",
         "name": "Sales($)",
         "orientation": "v",
         "showlegend": true,
         "type": "scatter",
         "x": [
          "2013-01",
          "2013-02",
          "2013-03",
          "2013-04",
          "2013-05",
          "2013-06",
          "2013-07",
          "2013-08",
          "2013-09",
          "2013-10",
          "2013-11",
          "2013-12",
          "2014-01",
          "2014-02",
          "2014-03",
          "2014-04",
          "2014-05",
          "2014-06",
          "2014-07",
          "2014-08",
          "2014-09",
          "2014-10",
          "2014-11",
          "2014-12",
          "2015-01",
          "2015-02",
          "2015-03",
          "2015-04",
          "2015-05",
          "2015-06",
          "2015-07",
          "2015-08",
          "2015-09",
          "2015-10",
          "2015-11",
          "2015-12"
         ],
         "xaxis": "x",
         "y": [
          1129022.8599999999,
          2775840.02,
          2132294.34,
          3221365.45,
          1250879.24,
          2899685.96,
          2433417.71,
          3187970.49,
          5583153.42,
          4665728.61,
          3531966.56,
          6469846.7,
          1405569.19,
          2804286.59,
          1678448.1,
          1345683.65,
          2352162.74,
          3441559.39,
          3312537.66,
          1114666.31,
          1697405.63,
          8830258.65,
          4148358.04,
          5694427.12,
          4073169.64,
          1717404.78,
          1776117.4300000002,
          2397725.98,
          2607169.08,
          3177648.4699999997,
          2356964.8200000003,
          1561985.6199999999,
          3602138.22,
          8175443.76,
          4971092.9,
          5202955.16
         ],
         "yaxis": "y"
        }
       ],
       "layout": {
        "legend": {
         "title": {
          "text": "variable"
         },
         "tracegroupgap": 0
        },
        "margin": {
         "t": 60
        },
        "showlegend": false,
        "template": {
         "data": {
          "bar": [
           {
            "error_x": {
             "color": "#2a3f5f"
            },
            "error_y": {
             "color": "#2a3f5f"
            },
            "marker": {
             "line": {
              "color": "#E5ECF6",
              "width": 0.5
             },
             "pattern": {
              "fillmode": "overlay",
              "size": 10,
              "solidity": 0.2
             }
            },
            "type": "bar"
           }
          ],
          "barpolar": [
           {
            "marker": {
             "line": {
              "color": "#E5ECF6",
              "width": 0.5
             },
             "pattern": {
              "fillmode": "overlay",
              "size": 10,
              "solidity": 0.2
             }
            },
            "type": "barpolar"
           }
          ],
          "carpet": [
           {
            "aaxis": {
             "endlinecolor": "#2a3f5f",
             "gridcolor": "white",
             "linecolor": "white",
             "minorgridcolor": "white",
             "startlinecolor": "#2a3f5f"
            },
            "baxis": {
             "endlinecolor": "#2a3f5f",
             "gridcolor": "white",
             "linecolor": "white",
             "minorgridcolor": "white",
             "startlinecolor": "#2a3f5f"
            },
            "type": "carpet"
           }
          ],
          "choropleth": [
           {
            "colorbar": {
             "outlinewidth": 0,
             "ticks": ""
            },
            "type": "choropleth"
           }
          ],
          "contour": [
           {
            "colorbar": {
             "outlinewidth": 0,
             "ticks": ""
            },
            "colorscale": [
             [
              0,
              "#0d0887"
             ],
             [
              0.1111111111111111,
              "#46039f"
             ],
             [
              0.2222222222222222,
              "#7201a8"
             ],
             [
              0.3333333333333333,
              "#9c179e"
             ],
             [
              0.4444444444444444,
              "#bd3786"
             ],
             [
              0.5555555555555556,
              "#d8576b"
             ],
             [
              0.6666666666666666,
              "#ed7953"
             ],
             [
              0.7777777777777778,
              "#fb9f3a"
             ],
             [
              0.8888888888888888,
              "#fdca26"
             ],
             [
              1,
              "#f0f921"
             ]
            ],
            "type": "contour"
           }
          ],
          "contourcarpet": [
           {
            "colorbar": {
             "outlinewidth": 0,
             "ticks": ""
            },
            "type": "contourcarpet"
           }
          ],
          "heatmap": [
           {
            "colorbar": {
             "outlinewidth": 0,
             "ticks": ""
            },
            "colorscale": [
             [
              0,
              "#0d0887"
             ],
             [
              0.1111111111111111,
              "#46039f"
             ],
             [
              0.2222222222222222,
              "#7201a8"
             ],
             [
              0.3333333333333333,
              "#9c179e"
             ],
             [
              0.4444444444444444,
              "#bd3786"
             ],
             [
              0.5555555555555556,
              "#d8576b"
             ],
             [
              0.6666666666666666,
              "#ed7953"
             ],
             [
              0.7777777777777778,
              "#fb9f3a"
             ],
             [
              0.8888888888888888,
              "#fdca26"
             ],
             [
              1,
              "#f0f921"
             ]
            ],
            "type": "heatmap"
           }
          ],
          "heatmapgl": [
           {
            "colorbar": {
             "outlinewidth": 0,
             "ticks": ""
            },
            "colorscale": [
             [
              0,
              "#0d0887"
             ],
             [
              0.1111111111111111,
              "#46039f"
             ],
             [
              0.2222222222222222,
              "#7201a8"
             ],
             [
              0.3333333333333333,
              "#9c179e"
             ],
             [
              0.4444444444444444,
              "#bd3786"
             ],
             [
              0.5555555555555556,
              "#d8576b"
             ],
             [
              0.6666666666666666,
              "#ed7953"
             ],
             [
              0.7777777777777778,
              "#fb9f3a"
             ],
             [
              0.8888888888888888,
              "#fdca26"
             ],
             [
              1,
              "#f0f921"
             ]
            ],
            "type": "heatmapgl"
           }
          ],
          "histogram": [
           {
            "marker": {
             "pattern": {
              "fillmode": "overlay",
              "size": 10,
              "solidity": 0.2
             }
            },
            "type": "histogram"
           }
          ],
          "histogram2d": [
           {
            "colorbar": {
             "outlinewidth": 0,
             "ticks": ""
            },
            "colorscale": [
             [
              0,
              "#0d0887"
             ],
             [
              0.1111111111111111,
              "#46039f"
             ],
             [
              0.2222222222222222,
              "#7201a8"
             ],
             [
              0.3333333333333333,
              "#9c179e"
             ],
             [
              0.4444444444444444,
              "#bd3786"
             ],
             [
              0.5555555555555556,
              "#d8576b"
             ],
             [
              0.6666666666666666,
              "#ed7953"
             ],
             [
              0.7777777777777778,
              "#fb9f3a"
             ],
             [
              0.8888888888888888,
              "#fdca26"
             ],
             [
              1,
              "#f0f921"
             ]
            ],
            "type": "histogram2d"
           }
          ],
          "histogram2dcontour": [
           {
            "colorbar": {
             "outlinewidth": 0,
             "ticks": ""
            },
            "colorscale": [
             [
              0,
              "#0d0887"
             ],
             [
              0.1111111111111111,
              "#46039f"
             ],
             [
              0.2222222222222222,
              "#7201a8"
             ],
             [
              0.3333333333333333,
              "#9c179e"
             ],
             [
              0.4444444444444444,
              "#bd3786"
             ],
             [
              0.5555555555555556,
              "#d8576b"
             ],
             [
              0.6666666666666666,
              "#ed7953"
             ],
             [
              0.7777777777777778,
              "#fb9f3a"
             ],
             [
              0.8888888888888888,
              "#fdca26"
             ],
             [
              1,
              "#f0f921"
             ]
            ],
            "type": "histogram2dcontour"
           }
          ],
          "mesh3d": [
           {
            "colorbar": {
             "outlinewidth": 0,
             "ticks": ""
            },
            "type": "mesh3d"
           }
          ],
          "parcoords": [
           {
            "line": {
             "colorbar": {
              "outlinewidth": 0,
              "ticks": ""
             }
            },
            "type": "parcoords"
           }
          ],
          "pie": [
           {
            "automargin": true,
            "type": "pie"
           }
          ],
          "scatter": [
           {
            "fillpattern": {
             "fillmode": "overlay",
             "size": 10,
             "solidity": 0.2
            },
            "type": "scatter"
           }
          ],
          "scatter3d": [
           {
            "line": {
             "colorbar": {
              "outlinewidth": 0,
              "ticks": ""
             }
            },
            "marker": {
             "colorbar": {
              "outlinewidth": 0,
              "ticks": ""
             }
            },
            "type": "scatter3d"
           }
          ],
          "scattercarpet": [
           {
            "marker": {
             "colorbar": {
              "outlinewidth": 0,
              "ticks": ""
             }
            },
            "type": "scattercarpet"
           }
          ],
          "scattergeo": [
           {
            "marker": {
             "colorbar": {
              "outlinewidth": 0,
              "ticks": ""
             }
            },
            "type": "scattergeo"
           }
          ],
          "scattergl": [
           {
            "marker": {
             "colorbar": {
              "outlinewidth": 0,
              "ticks": ""
             }
            },
            "type": "scattergl"
           }
          ],
          "scattermapbox": [
           {
            "marker": {
             "colorbar": {
              "outlinewidth": 0,
              "ticks": ""
             }
            },
            "type": "scattermapbox"
           }
          ],
          "scatterpolar": [
           {
            "marker": {
             "colorbar": {
              "outlinewidth": 0,
              "ticks": ""
             }
            },
            "type": "scatterpolar"
           }
          ],
          "scatterpolargl": [
           {
            "marker": {
             "colorbar": {
              "outlinewidth": 0,
              "ticks": ""
             }
            },
            "type": "scatterpolargl"
           }
          ],
          "scatterternary": [
           {
            "marker": {
             "colorbar": {
              "outlinewidth": 0,
              "ticks": ""
             }
            },
            "type": "scatterternary"
           }
          ],
          "surface": [
           {
            "colorbar": {
             "outlinewidth": 0,
             "ticks": ""
            },
            "colorscale": [
             [
              0,
              "#0d0887"
             ],
             [
              0.1111111111111111,
              "#46039f"
             ],
             [
              0.2222222222222222,
              "#7201a8"
             ],
             [
              0.3333333333333333,
              "#9c179e"
             ],
             [
              0.4444444444444444,
              "#bd3786"
             ],
             [
              0.5555555555555556,
              "#d8576b"
             ],
             [
              0.6666666666666666,
              "#ed7953"
             ],
             [
              0.7777777777777778,
              "#fb9f3a"
             ],
             [
              0.8888888888888888,
              "#fdca26"
             ],
             [
              1,
              "#f0f921"
             ]
            ],
            "type": "surface"
           }
          ],
          "table": [
           {
            "cells": {
             "fill": {
              "color": "#EBF0F8"
             },
             "line": {
              "color": "white"
             }
            },
            "header": {
             "fill": {
              "color": "#C8D4E3"
             },
             "line": {
              "color": "white"
             }
            },
            "type": "table"
           }
          ]
         },
         "layout": {
          "annotationdefaults": {
           "arrowcolor": "#2a3f5f",
           "arrowhead": 0,
           "arrowwidth": 1
          },
          "autotypenumbers": "strict",
          "coloraxis": {
           "colorbar": {
            "outlinewidth": 0,
            "ticks": ""
           }
          },
          "colorscale": {
           "diverging": [
            [
             0,
             "#8e0152"
            ],
            [
             0.1,
             "#c51b7d"
            ],
            [
             0.2,
             "#de77ae"
            ],
            [
             0.3,
             "#f1b6da"
            ],
            [
             0.4,
             "#fde0ef"
            ],
            [
             0.5,
             "#f7f7f7"
            ],
            [
             0.6,
             "#e6f5d0"
            ],
            [
             0.7,
             "#b8e186"
            ],
            [
             0.8,
             "#7fbc41"
            ],
            [
             0.9,
             "#4d9221"
            ],
            [
             1,
             "#276419"
            ]
           ],
           "sequential": [
            [
             0,
             "#0d0887"
            ],
            [
             0.1111111111111111,
             "#46039f"
            ],
            [
             0.2222222222222222,
             "#7201a8"
            ],
            [
             0.3333333333333333,
             "#9c179e"
            ],
            [
             0.4444444444444444,
             "#bd3786"
            ],
            [
             0.5555555555555556,
             "#d8576b"
            ],
            [
             0.6666666666666666,
             "#ed7953"
            ],
            [
             0.7777777777777778,
             "#fb9f3a"
            ],
            [
             0.8888888888888888,
             "#fdca26"
            ],
            [
             1,
             "#f0f921"
            ]
           ],
           "sequentialminus": [
            [
             0,
             "#0d0887"
            ],
            [
             0.1111111111111111,
             "#46039f"
            ],
            [
             0.2222222222222222,
             "#7201a8"
            ],
            [
             0.3333333333333333,
             "#9c179e"
            ],
            [
             0.4444444444444444,
             "#bd3786"
            ],
            [
             0.5555555555555556,
             "#d8576b"
            ],
            [
             0.6666666666666666,
             "#ed7953"
            ],
            [
             0.7777777777777778,
             "#fb9f3a"
            ],
            [
             0.8888888888888888,
             "#fdca26"
            ],
            [
             1,
             "#f0f921"
            ]
           ]
          },
          "colorway": [
           "#636efa",
           "#EF553B",
           "#00cc96",
           "#ab63fa",
           "#FFA15A",
           "#19d3f3",
           "#FF6692",
           "#B6E880",
           "#FF97FF",
           "#FECB52"
          ],
          "font": {
           "color": "#2a3f5f"
          },
          "geo": {
           "bgcolor": "white",
           "lakecolor": "white",
           "landcolor": "#E5ECF6",
           "showlakes": true,
           "showland": true,
           "subunitcolor": "white"
          },
          "hoverlabel": {
           "align": "left"
          },
          "hovermode": "closest",
          "mapbox": {
           "style": "light"
          },
          "paper_bgcolor": "white",
          "plot_bgcolor": "#E5ECF6",
          "polar": {
           "angularaxis": {
            "gridcolor": "white",
            "linecolor": "white",
            "ticks": ""
           },
           "bgcolor": "#E5ECF6",
           "radialaxis": {
            "gridcolor": "white",
            "linecolor": "white",
            "ticks": ""
           }
          },
          "scene": {
           "xaxis": {
            "backgroundcolor": "#E5ECF6",
            "gridcolor": "white",
            "gridwidth": 2,
            "linecolor": "white",
            "showbackground": true,
            "ticks": "",
            "zerolinecolor": "white"
           },
           "yaxis": {
            "backgroundcolor": "#E5ECF6",
            "gridcolor": "white",
            "gridwidth": 2,
            "linecolor": "white",
            "showbackground": true,
            "ticks": "",
            "zerolinecolor": "white"
           },
           "zaxis": {
            "backgroundcolor": "#E5ECF6",
            "gridcolor": "white",
            "gridwidth": 2,
            "linecolor": "white",
            "showbackground": true,
            "ticks": "",
            "zerolinecolor": "white"
           }
          },
          "shapedefaults": {
           "line": {
            "color": "#2a3f5f"
           }
          },
          "ternary": {
           "aaxis": {
            "gridcolor": "white",
            "linecolor": "white",
            "ticks": ""
           },
           "baxis": {
            "gridcolor": "white",
            "linecolor": "white",
            "ticks": ""
           },
           "bgcolor": "#E5ECF6",
           "caxis": {
            "gridcolor": "white",
            "linecolor": "white",
            "ticks": ""
           }
          },
          "title": {
           "x": 0.05
          },
          "xaxis": {
           "automargin": true,
           "gridcolor": "white",
           "linecolor": "white",
           "ticks": "",
           "title": {
            "standoff": 15
           },
           "zerolinecolor": "white",
           "zerolinewidth": 2
          },
          "yaxis": {
           "automargin": true,
           "gridcolor": "white",
           "linecolor": "white",
           "ticks": "",
           "title": {
            "standoff": 15
           },
           "zerolinecolor": "white",
           "zerolinewidth": 2
          }
         }
        },
        "title": {
         "font": {
          "size": 20
         },
         "text": "Total Sales",
         "x": 0.5,
         "xanchor": "center",
         "y": 0.93,
         "yanchor": "top"
        },
        "xaxis": {
         "anchor": "y",
         "domain": [
          0,
          1
         ],
         "title": {
          "text": "Year-Month"
         }
        },
        "yaxis": {
         "anchor": "x",
         "domain": [
          0,
          1
         ],
         "title": {
          "text": "Sales"
         }
        }
       }
      },
      "text/html": [
       "<div>                            <div id=\"f6745481-e7d9-4196-b367-d4c7a805321c\" class=\"plotly-graph-div\" style=\"height:525px; width:100%;\"></div>            <script type=\"text/javascript\">                require([\"plotly\"], function(Plotly) {                    window.PLOTLYENV=window.PLOTLYENV || {};                                    if (document.getElementById(\"f6745481-e7d9-4196-b367-d4c7a805321c\")) {                    Plotly.newPlot(                        \"f6745481-e7d9-4196-b367-d4c7a805321c\",                        [{\"hovertemplate\":\"variable=Sales($)<br>Year-Month=%{x}<br>value=%{y}<extra></extra>\",\"legendgroup\":\"Sales($)\",\"line\":{\"color\":\"#636efa\",\"dash\":\"solid\"},\"marker\":{\"symbol\":\"circle\"},\"mode\":\"lines\",\"name\":\"Sales($)\",\"orientation\":\"v\",\"showlegend\":true,\"x\":[\"2013-01\",\"2013-02\",\"2013-03\",\"2013-04\",\"2013-05\",\"2013-06\",\"2013-07\",\"2013-08\",\"2013-09\",\"2013-10\",\"2013-11\",\"2013-12\",\"2014-01\",\"2014-02\",\"2014-03\",\"2014-04\",\"2014-05\",\"2014-06\",\"2014-07\",\"2014-08\",\"2014-09\",\"2014-10\",\"2014-11\",\"2014-12\",\"2015-01\",\"2015-02\",\"2015-03\",\"2015-04\",\"2015-05\",\"2015-06\",\"2015-07\",\"2015-08\",\"2015-09\",\"2015-10\",\"2015-11\",\"2015-12\"],\"xaxis\":\"x\",\"y\":[1129022.8599999999,2775840.02,2132294.34,3221365.45,1250879.24,2899685.96,2433417.71,3187970.49,5583153.42,4665728.61,3531966.56,6469846.7,1405569.19,2804286.59,1678448.1,1345683.65,2352162.74,3441559.39,3312537.66,1114666.31,1697405.63,8830258.65,4148358.04,5694427.12,4073169.64,1717404.78,1776117.4300000002,2397725.98,2607169.08,3177648.4699999997,2356964.8200000003,1561985.6199999999,3602138.22,8175443.76,4971092.9,5202955.16],\"yaxis\":\"y\",\"type\":\"scatter\"}],                        {\"template\":{\"data\":{\"histogram2dcontour\":[{\"type\":\"histogram2dcontour\",\"colorbar\":{\"outlinewidth\":0,\"ticks\":\"\"},\"colorscale\":[[0.0,\"#0d0887\"],[0.1111111111111111,\"#46039f\"],[0.2222222222222222,\"#7201a8\"],[0.3333333333333333,\"#9c179e\"],[0.4444444444444444,\"#bd3786\"],[0.5555555555555556,\"#d8576b\"],[0.6666666666666666,\"#ed7953\"],[0.7777777777777778,\"#fb9f3a\"],[0.8888888888888888,\"#fdca26\"],[1.0,\"#f0f921\"]]}],\"choropleth\":[{\"type\":\"choropleth\",\"colorbar\":{\"outlinewidth\":0,\"ticks\":\"\"}}],\"histogram2d\":[{\"type\":\"histogram2d\",\"colorbar\":{\"outlinewidth\":0,\"ticks\":\"\"},\"colorscale\":[[0.0,\"#0d0887\"],[0.1111111111111111,\"#46039f\"],[0.2222222222222222,\"#7201a8\"],[0.3333333333333333,\"#9c179e\"],[0.4444444444444444,\"#bd3786\"],[0.5555555555555556,\"#d8576b\"],[0.6666666666666666,\"#ed7953\"],[0.7777777777777778,\"#fb9f3a\"],[0.8888888888888888,\"#fdca26\"],[1.0,\"#f0f921\"]]}],\"heatmap\":[{\"type\":\"heatmap\",\"colorbar\":{\"outlinewidth\":0,\"ticks\":\"\"},\"colorscale\":[[0.0,\"#0d0887\"],[0.1111111111111111,\"#46039f\"],[0.2222222222222222,\"#7201a8\"],[0.3333333333333333,\"#9c179e\"],[0.4444444444444444,\"#bd3786\"],[0.5555555555555556,\"#d8576b\"],[0.6666666666666666,\"#ed7953\"],[0.7777777777777778,\"#fb9f3a\"],[0.8888888888888888,\"#fdca26\"],[1.0,\"#f0f921\"]]}],\"heatmapgl\":[{\"type\":\"heatmapgl\",\"colorbar\":{\"outlinewidth\":0,\"ticks\":\"\"},\"colorscale\":[[0.0,\"#0d0887\"],[0.1111111111111111,\"#46039f\"],[0.2222222222222222,\"#7201a8\"],[0.3333333333333333,\"#9c179e\"],[0.4444444444444444,\"#bd3786\"],[0.5555555555555556,\"#d8576b\"],[0.6666666666666666,\"#ed7953\"],[0.7777777777777778,\"#fb9f3a\"],[0.8888888888888888,\"#fdca26\"],[1.0,\"#f0f921\"]]}],\"contourcarpet\":[{\"type\":\"contourcarpet\",\"colorbar\":{\"outlinewidth\":0,\"ticks\":\"\"}}],\"contour\":[{\"type\":\"contour\",\"colorbar\":{\"outlinewidth\":0,\"ticks\":\"\"},\"colorscale\":[[0.0,\"#0d0887\"],[0.1111111111111111,\"#46039f\"],[0.2222222222222222,\"#7201a8\"],[0.3333333333333333,\"#9c179e\"],[0.4444444444444444,\"#bd3786\"],[0.5555555555555556,\"#d8576b\"],[0.6666666666666666,\"#ed7953\"],[0.7777777777777778,\"#fb9f3a\"],[0.8888888888888888,\"#fdca26\"],[1.0,\"#f0f921\"]]}],\"surface\":[{\"type\":\"surface\",\"colorbar\":{\"outlinewidth\":0,\"ticks\":\"\"},\"colorscale\":[[0.0,\"#0d0887\"],[0.1111111111111111,\"#46039f\"],[0.2222222222222222,\"#7201a8\"],[0.3333333333333333,\"#9c179e\"],[0.4444444444444444,\"#bd3786\"],[0.5555555555555556,\"#d8576b\"],[0.6666666666666666,\"#ed7953\"],[0.7777777777777778,\"#fb9f3a\"],[0.8888888888888888,\"#fdca26\"],[1.0,\"#f0f921\"]]}],\"mesh3d\":[{\"type\":\"mesh3d\",\"colorbar\":{\"outlinewidth\":0,\"ticks\":\"\"}}],\"scatter\":[{\"fillpattern\":{\"fillmode\":\"overlay\",\"size\":10,\"solidity\":0.2},\"type\":\"scatter\"}],\"parcoords\":[{\"type\":\"parcoords\",\"line\":{\"colorbar\":{\"outlinewidth\":0,\"ticks\":\"\"}}}],\"scatterpolargl\":[{\"type\":\"scatterpolargl\",\"marker\":{\"colorbar\":{\"outlinewidth\":0,\"ticks\":\"\"}}}],\"bar\":[{\"error_x\":{\"color\":\"#2a3f5f\"},\"error_y\":{\"color\":\"#2a3f5f\"},\"marker\":{\"line\":{\"color\":\"#E5ECF6\",\"width\":0.5},\"pattern\":{\"fillmode\":\"overlay\",\"size\":10,\"solidity\":0.2}},\"type\":\"bar\"}],\"scattergeo\":[{\"type\":\"scattergeo\",\"marker\":{\"colorbar\":{\"outlinewidth\":0,\"ticks\":\"\"}}}],\"scatterpolar\":[{\"type\":\"scatterpolar\",\"marker\":{\"colorbar\":{\"outlinewidth\":0,\"ticks\":\"\"}}}],\"histogram\":[{\"marker\":{\"pattern\":{\"fillmode\":\"overlay\",\"size\":10,\"solidity\":0.2}},\"type\":\"histogram\"}],\"scattergl\":[{\"type\":\"scattergl\",\"marker\":{\"colorbar\":{\"outlinewidth\":0,\"ticks\":\"\"}}}],\"scatter3d\":[{\"type\":\"scatter3d\",\"line\":{\"colorbar\":{\"outlinewidth\":0,\"ticks\":\"\"}},\"marker\":{\"colorbar\":{\"outlinewidth\":0,\"ticks\":\"\"}}}],\"scattermapbox\":[{\"type\":\"scattermapbox\",\"marker\":{\"colorbar\":{\"outlinewidth\":0,\"ticks\":\"\"}}}],\"scatterternary\":[{\"type\":\"scatterternary\",\"marker\":{\"colorbar\":{\"outlinewidth\":0,\"ticks\":\"\"}}}],\"scattercarpet\":[{\"type\":\"scattercarpet\",\"marker\":{\"colorbar\":{\"outlinewidth\":0,\"ticks\":\"\"}}}],\"carpet\":[{\"aaxis\":{\"endlinecolor\":\"#2a3f5f\",\"gridcolor\":\"white\",\"linecolor\":\"white\",\"minorgridcolor\":\"white\",\"startlinecolor\":\"#2a3f5f\"},\"baxis\":{\"endlinecolor\":\"#2a3f5f\",\"gridcolor\":\"white\",\"linecolor\":\"white\",\"minorgridcolor\":\"white\",\"startlinecolor\":\"#2a3f5f\"},\"type\":\"carpet\"}],\"table\":[{\"cells\":{\"fill\":{\"color\":\"#EBF0F8\"},\"line\":{\"color\":\"white\"}},\"header\":{\"fill\":{\"color\":\"#C8D4E3\"},\"line\":{\"color\":\"white\"}},\"type\":\"table\"}],\"barpolar\":[{\"marker\":{\"line\":{\"color\":\"#E5ECF6\",\"width\":0.5},\"pattern\":{\"fillmode\":\"overlay\",\"size\":10,\"solidity\":0.2}},\"type\":\"barpolar\"}],\"pie\":[{\"automargin\":true,\"type\":\"pie\"}]},\"layout\":{\"autotypenumbers\":\"strict\",\"colorway\":[\"#636efa\",\"#EF553B\",\"#00cc96\",\"#ab63fa\",\"#FFA15A\",\"#19d3f3\",\"#FF6692\",\"#B6E880\",\"#FF97FF\",\"#FECB52\"],\"font\":{\"color\":\"#2a3f5f\"},\"hovermode\":\"closest\",\"hoverlabel\":{\"align\":\"left\"},\"paper_bgcolor\":\"white\",\"plot_bgcolor\":\"#E5ECF6\",\"polar\":{\"bgcolor\":\"#E5ECF6\",\"angularaxis\":{\"gridcolor\":\"white\",\"linecolor\":\"white\",\"ticks\":\"\"},\"radialaxis\":{\"gridcolor\":\"white\",\"linecolor\":\"white\",\"ticks\":\"\"}},\"ternary\":{\"bgcolor\":\"#E5ECF6\",\"aaxis\":{\"gridcolor\":\"white\",\"linecolor\":\"white\",\"ticks\":\"\"},\"baxis\":{\"gridcolor\":\"white\",\"linecolor\":\"white\",\"ticks\":\"\"},\"caxis\":{\"gridcolor\":\"white\",\"linecolor\":\"white\",\"ticks\":\"\"}},\"coloraxis\":{\"colorbar\":{\"outlinewidth\":0,\"ticks\":\"\"}},\"colorscale\":{\"sequential\":[[0.0,\"#0d0887\"],[0.1111111111111111,\"#46039f\"],[0.2222222222222222,\"#7201a8\"],[0.3333333333333333,\"#9c179e\"],[0.4444444444444444,\"#bd3786\"],[0.5555555555555556,\"#d8576b\"],[0.6666666666666666,\"#ed7953\"],[0.7777777777777778,\"#fb9f3a\"],[0.8888888888888888,\"#fdca26\"],[1.0,\"#f0f921\"]],\"sequentialminus\":[[0.0,\"#0d0887\"],[0.1111111111111111,\"#46039f\"],[0.2222222222222222,\"#7201a8\"],[0.3333333333333333,\"#9c179e\"],[0.4444444444444444,\"#bd3786\"],[0.5555555555555556,\"#d8576b\"],[0.6666666666666666,\"#ed7953\"],[0.7777777777777778,\"#fb9f3a\"],[0.8888888888888888,\"#fdca26\"],[1.0,\"#f0f921\"]],\"diverging\":[[0,\"#8e0152\"],[0.1,\"#c51b7d\"],[0.2,\"#de77ae\"],[0.3,\"#f1b6da\"],[0.4,\"#fde0ef\"],[0.5,\"#f7f7f7\"],[0.6,\"#e6f5d0\"],[0.7,\"#b8e186\"],[0.8,\"#7fbc41\"],[0.9,\"#4d9221\"],[1,\"#276419\"]]},\"xaxis\":{\"gridcolor\":\"white\",\"linecolor\":\"white\",\"ticks\":\"\",\"title\":{\"standoff\":15},\"zerolinecolor\":\"white\",\"automargin\":true,\"zerolinewidth\":2},\"yaxis\":{\"gridcolor\":\"white\",\"linecolor\":\"white\",\"ticks\":\"\",\"title\":{\"standoff\":15},\"zerolinecolor\":\"white\",\"automargin\":true,\"zerolinewidth\":2},\"scene\":{\"xaxis\":{\"backgroundcolor\":\"#E5ECF6\",\"gridcolor\":\"white\",\"linecolor\":\"white\",\"showbackground\":true,\"ticks\":\"\",\"zerolinecolor\":\"white\",\"gridwidth\":2},\"yaxis\":{\"backgroundcolor\":\"#E5ECF6\",\"gridcolor\":\"white\",\"linecolor\":\"white\",\"showbackground\":true,\"ticks\":\"\",\"zerolinecolor\":\"white\",\"gridwidth\":2},\"zaxis\":{\"backgroundcolor\":\"#E5ECF6\",\"gridcolor\":\"white\",\"linecolor\":\"white\",\"showbackground\":true,\"ticks\":\"\",\"zerolinecolor\":\"white\",\"gridwidth\":2}},\"shapedefaults\":{\"line\":{\"color\":\"#2a3f5f\"}},\"annotationdefaults\":{\"arrowcolor\":\"#2a3f5f\",\"arrowhead\":0,\"arrowwidth\":1},\"geo\":{\"bgcolor\":\"white\",\"landcolor\":\"#E5ECF6\",\"subunitcolor\":\"white\",\"showland\":true,\"showlakes\":true,\"lakecolor\":\"white\"},\"title\":{\"x\":0.05},\"mapbox\":{\"style\":\"light\"}}},\"xaxis\":{\"anchor\":\"y\",\"domain\":[0.0,1.0],\"title\":{\"text\":\"Year-Month\"}},\"yaxis\":{\"anchor\":\"x\",\"domain\":[0.0,1.0],\"title\":{\"text\":\"Sales\"}},\"legend\":{\"title\":{\"text\":\"variable\"},\"tracegroupgap\":0},\"margin\":{\"t\":60},\"title\":{\"font\":{\"size\":20},\"text\":\"Total Sales\",\"x\":0.5,\"y\":0.93,\"xanchor\":\"center\",\"yanchor\":\"top\"},\"showlegend\":false},                        {\"responsive\": true}                    ).then(function(){\n",
       "                            \n",
       "var gd = document.getElementById('f6745481-e7d9-4196-b367-d4c7a805321c');\n",
       "var x = new MutationObserver(function (mutations, observer) {{\n",
       "        var display = window.getComputedStyle(gd).display;\n",
       "        if (!display || display === 'none') {{\n",
       "            console.log([gd, 'removed!']);\n",
       "            Plotly.purge(gd);\n",
       "            observer.disconnect();\n",
       "        }}\n",
       "}});\n",
       "\n",
       "// Listen for the removal of the full notebook cells\n",
       "var notebookContainer = gd.closest('#notebook-container');\n",
       "if (notebookContainer) {{\n",
       "    x.observe(notebookContainer, {childList: true});\n",
       "}}\n",
       "\n",
       "// Listen for the clearing of the current output cell\n",
       "var outputEl = gd.closest('.output');\n",
       "if (outputEl) {{\n",
       "    x.observe(outputEl, {childList: true});\n",
       "}}\n",
       "\n",
       "                        })                };                });            </script>        </div>"
      ]
     },
     "metadata": {},
     "output_type": "display_data"
    }
   ],
   "source": [
    "if __name__ == \"__main__\":\n",
    "    \n",
    "    sales_analysis = SalesDataAnalysis()\n",
    "\n",
    "    main_window = tk.Tk()\n",
    "    gui_app = GUIApp(main_window, sales_analysis)\n",
    "    main_window.mainloop()"
   ]
  }
 ],
 "metadata": {
  "kernelspec": {
   "display_name": "Python 3 (ipykernel)",
   "language": "python",
   "name": "python3"
  },
  "language_info": {
   "codemirror_mode": {
    "name": "ipython",
    "version": 3
   },
   "file_extension": ".py",
   "mimetype": "text/x-python",
   "name": "python",
   "nbconvert_exporter": "python",
   "pygments_lexer": "ipython3",
   "version": "3.11.3"
  }
 },
 "nbformat": 4,
 "nbformat_minor": 5
}
